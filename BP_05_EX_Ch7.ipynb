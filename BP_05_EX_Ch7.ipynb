{
  "nbformat": 4,
  "nbformat_minor": 0,
  "metadata": {
    "colab": {
      "provenance": []
    },
    "kernelspec": {
      "name": "python3",
      "display_name": "Python 3"
    },
    "language_info": {
      "name": "python"
    }
  },
  "cells": [
    {
      "cell_type": "markdown",
      "source": [
        "1. 눈사람을 그리는 함수를 작성하고 이 함수를 여러 번 호출하여서 랜덤한 위치에 눈사람을 그리는 프로그램을 작성하라. \n",
        "아해 실행 결과와 최대한 비슷하게 작성해보자.\n",
        "#  "
      ],
      "metadata": {
        "id": "XWbiSOceH_HE"
      }
    },
    {
      "cell_type": "markdown",
      "source": [
        "2. 6각형을 그리는 draw_hexa() 함수를 작성하고 이 함수를 호출하여서 다음과 같은 벌집 모양을 화면에 그려보자.\n",
        "\n",
        "# 문제 def hexagon(): for i in range(6): turtle.forward(100) turtle.left(360/6) 를 이용하여 문제 풀이"
      ],
      "metadata": {
        "id": "a953lECoICGE"
      }
    },
    {
      "cell_type": "markdown",
      "source": [
        "3. 함수 f(x)=x^2+1 을 계산하는 함수를 작성하고 이 함수를 이용하여 화면에 f(x)를 그려보자.\n",
        "# 문제 힌트에 나온 값을 활용하여 함수를 만들고 라인을 이동 후 선을 그려서 상승하는 그래프를 만든다."
      ],
      "metadata": {
        "id": "aDoIf2JgICIF"
      }
    },
    {
      "cell_type": "markdown",
      "source": [
        "4. 터틀 그래픽에서 거북이를 움직이지 않고 선을 긋는 함수 draw_line()을 정의하고 이것을 이용하여 다음과 같은 거미줄과 같은 모양을 그려보자. 거북이는 항상 중앙에 위치한다.\n",
        "# 힌트를 활용하여 draw_line()을 호출하면 된다.\n",
        "draw_line()함수를 12번 반복시키며, 30도씩 각도를 틀어주면 360도를 회전하는 거북이를 만들 수 있다.\n"
      ],
      "metadata": {
        "id": "t3gp49O9ICKs"
      }
    },
    {
      "cell_type": "markdown",
      "source": [
        "05. 다음과 같이 이름을 받아서 생일 축하 노래를 출력하는 함수 happyBirtday()를 작성하고 테스트하시오.\n"
      ],
      "metadata": {
        "id": "ttnNGVAzICM8"
      }
    },
    {
      "cell_type": "code",
      "source": [
        "def happyBirthday(person):           # 함수를 선언하고 텍스트 값을 입력\n",
        "  print(\"Happy Birthday to you!\")\n",
        "  print(\"Happy Birthday to you!\")\n",
        "  print(\"Happy Birthday, dear \" + person)\n",
        "  print(\"Happy Birthday to you!\")\n",
        "\n",
        "happyBirthday(\"오채호\")"
      ],
      "metadata": {
        "colab": {
          "base_uri": "https://localhost:8080/"
        },
        "id": "XLVSGencLv5m",
        "outputId": "526c8078-6ede-452a-9983-53b880425bce"
      },
      "execution_count": 1,
      "outputs": [
        {
          "output_type": "stream",
          "name": "stdout",
          "text": [
            "Happy Birthday to you!\n",
            "Happy Birthday to you!\n",
            "Happy Birthday, dear 오채호\n",
            "Happy Birthday to you!\n"
          ]
        }
      ]
    },
    {
      "cell_type": "markdown",
      "source": [
        "6. 사용자로부터 2개의 정수를 받아서 수학 문제를 만들어서 화면에 출력하는 함수를 작성하고 테스트하시오."
      ],
      "metadata": {
        "id": "RsuIhwSXIU3t"
      }
    },
    {
      "cell_type": "code",
      "source": [
        "def sumProblem(x, y):                       # 매개 변수를 통하여 정수를 받으면 된다.\n",
        "  sum = x + y\n",
        "  sentence = \"정수\" + str(x) + \"+\"+str(y)+\"의 합은?\"\n",
        "  print(sentence)\n",
        "\n",
        "def main():\n",
        "  a = int(input(\"첫 번째 정수: \"))\n",
        "  b = int(input(\"두 번째 정수: \"))\n",
        "  sumProblem(a, b)\n",
        "\n",
        "main()"
      ],
      "metadata": {
        "colab": {
          "base_uri": "https://localhost:8080/"
        },
        "id": "cjnvUp3GMiSC",
        "outputId": "a6b435fa-68f9-4aa9-c1c8-40302c88e39f"
      },
      "execution_count": 30,
      "outputs": [
        {
          "output_type": "stream",
          "name": "stdout",
          "text": [
            "첫 번째 정수: 10\n",
            "두 번째 정수: 20\n",
            "정수10+20의 합은?\n"
          ]
        }
      ]
    },
    {
      "cell_type": "markdown",
      "source": [
        "7. 파이를 나타내는 PI=3.14를 전역 변수로 하여 원의 면적을 계산하는 함수 circleArea(radius)과 원의 둘레를 계산하는 함수 circleCircumference(radius)를 작성하고 테스트하라."
      ],
      "metadata": {
        "id": "C51xJwdRIU5Q"
      }
    },
    {
      "cell_type": "code",
      "source": [
        "PI = 3.14159265358979                          #값을 print() 함수로 출력해 준다.\n",
        "\n",
        "def circleArea(radius):\n",
        "  return PI*radius*radius\n",
        "\n",
        "def circleCircumference(radius):\n",
        "  return 2*PI*radius\n",
        "\n",
        "def main():\n",
        "  print('반지름이 5인 원의 면적:', circleArea(5)) \n",
        "  print('반지름이 5인 원의 둘레:', circleCircumference(5))\n",
        "\n",
        "main()"
      ],
      "metadata": {
        "colab": {
          "base_uri": "https://localhost:8080/"
        },
        "id": "oVvhllW6O-7b",
        "outputId": "35b87208-b8fd-45e4-89e7-89e940cc4ba3"
      },
      "execution_count": 26,
      "outputs": [
        {
          "output_type": "stream",
          "name": "stdout",
          "text": [
            "반지름이 5인 원의 면적: 78.53981633974475\n",
            "반지름이 5인 원의 둘레: 31.4159265358979\n"
          ]
        }
      ]
    },
    {
      "cell_type": "markdown",
      "source": [
        "8. 덧셈, 뺄셈, 곱셈, 나눗셈을 수행하는 함수를 각각 작성하고 테스트하라."
      ],
      "metadata": {
        "id": "V6KrsWXdIXzr"
      }
    },
    {
      "cell_type": "code",
      "source": [
        "def add(a, b):                              # 함수를 정의하여 넣기\n",
        "  print( \"(%d + %d)\" % (a, b), end=\" \")\n",
        "  return a + b\n",
        "\n",
        "def subtract(a, b):\n",
        "  print (\"(%d - %d)\" % (a, b), end=\" \")\n",
        "  return a - b\n",
        "\n",
        "def multiply(a, b):\n",
        "  print (\"(%d * %d)\" % (a, b), end=\" \")\n",
        "  return a * b\n",
        "\n",
        "def divide(a, b):\n",
        "  print (\"(%d / %d)\" % (a, b), end=\" \")\n",
        "  return a / b\n",
        "\n",
        "\n",
        "what = add(20, 10)\n",
        "print(\"= \", what)"
      ],
      "metadata": {
        "colab": {
          "base_uri": "https://localhost:8080/"
        },
        "id": "_7jxT7kZPR46",
        "outputId": "79ee25ff-6141-486f-9a89-539faf87c422"
      },
      "execution_count": 31,
      "outputs": [
        {
          "output_type": "stream",
          "name": "stdout",
          "text": [
            "(20 + 10) =  30\n"
          ]
        }
      ]
    }
  ]
}